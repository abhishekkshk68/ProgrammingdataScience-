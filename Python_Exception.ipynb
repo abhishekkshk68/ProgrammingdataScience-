{
  "nbformat": 4,
  "nbformat_minor": 0,
  "metadata": {
    "colab": {
      "name": "Python Exception.ipynb",
      "provenance": []
    },
    "kernelspec": {
      "name": "python3",
      "display_name": "Python 3"
    }
  },
  "cells": [
    {
      "cell_type": "code",
      "metadata": {
        "id": "rgYbAREOJ_1k"
      },
      "source": [
        ""
      ],
      "execution_count": null,
      "outputs": []
    },
    {
      "cell_type": "markdown",
      "metadata": {
        "id": "G3HeEXNEu762"
      },
      "source": [
        "#Python Exception\r\n",
        "### One can make certain mistakes while writing a program that lead to errors during running the code. A python program terminates as soon as it encounters an error. These errors can be broadly classified into two classes:\r\n",
        "\r\n",
        "1. Syntax errors\r\n",
        "2. Logical errors (Exceptions)\r\n",
        "\r\n",
        "\r\n",
        "\r\n"
      ]
    },
    {
      "cell_type": "code",
      "metadata": {
        "colab": {
          "base_uri": "https://localhost:8080/"
        },
        "id": "q4nvm2a8KKgj",
        "outputId": "6a6e0e40-7995-44d9-e238-bfcb0ffb1663"
      },
      "source": [
        "print(dir(locals()['__builtins__']))"
      ],
      "execution_count": 19,
      "outputs": [
        {
          "output_type": "stream",
          "text": [
            "['ArithmeticError', 'AssertionError', 'AttributeError', 'BaseException', 'BlockingIOError', 'BrokenPipeError', 'BufferError', 'BytesWarning', 'ChildProcessError', 'ConnectionAbortedError', 'ConnectionError', 'ConnectionRefusedError', 'ConnectionResetError', 'DeprecationWarning', 'EOFError', 'Ellipsis', 'EnvironmentError', 'Exception', 'False', 'FileExistsError', 'FileNotFoundError', 'FloatingPointError', 'FutureWarning', 'GeneratorExit', 'IOError', 'ImportError', 'ImportWarning', 'IndentationError', 'IndexError', 'InterruptedError', 'IsADirectoryError', 'KeyError', 'KeyboardInterrupt', 'LookupError', 'MemoryError', 'ModuleNotFoundError', 'NameError', 'None', 'NotADirectoryError', 'NotImplemented', 'NotImplementedError', 'OSError', 'OverflowError', 'PendingDeprecationWarning', 'PermissionError', 'ProcessLookupError', 'RecursionError', 'ReferenceError', 'ResourceWarning', 'RuntimeError', 'RuntimeWarning', 'StopAsyncIteration', 'StopIteration', 'SyntaxError', 'SyntaxWarning', 'SystemError', 'SystemExit', 'TabError', 'TimeoutError', 'True', 'TypeError', 'UnboundLocalError', 'UnicodeDecodeError', 'UnicodeEncodeError', 'UnicodeError', 'UnicodeTranslateError', 'UnicodeWarning', 'UserWarning', 'ValueError', 'Warning', 'ZeroDivisionError', '__IPYTHON__', '__build_class__', '__debug__', '__doc__', '__import__', '__loader__', '__name__', '__package__', '__spec__', 'abs', 'all', 'any', 'ascii', 'bin', 'bool', 'bytearray', 'bytes', 'callable', 'chr', 'classmethod', 'compile', 'complex', 'copyright', 'credits', 'delattr', 'dict', 'dir', 'display', 'divmod', 'dreload', 'enumerate', 'eval', 'exec', 'filter', 'float', 'format', 'frozenset', 'get_ipython', 'getattr', 'globals', 'hasattr', 'hash', 'help', 'hex', 'id', 'input', 'int', 'isinstance', 'issubclass', 'iter', 'len', 'license', 'list', 'locals', 'map', 'max', 'memoryview', 'min', 'next', 'object', 'oct', 'open', 'ord', 'pow', 'print', 'property', 'range', 'repr', 'reversed', 'round', 'set', 'setattr', 'slice', 'sorted', 'staticmethod', 'str', 'sum', 'super', 'tuple', 'type', 'vars', 'zip']\n"
          ],
          "name": "stdout"
        }
      ]
    },
    {
      "cell_type": "markdown",
      "metadata": {
        "id": "hgExAVteKLR2"
      },
      "source": [
        "# Exception Handling\r\n",
        "1. Error occurs, or exception as we call it\r\n",
        "2. Many built-in exceptions that are raised when your program encounters an error"
      ]
    },
    {
      "cell_type": "code",
      "metadata": {
        "colab": {
          "base_uri": "https://localhost:8080/",
          "height": 253
        },
        "id": "gy2rYZXaxdsX",
        "outputId": "ceca5a89-f155-4933-dfc3-fa54c285e1a6"
      },
      "source": [
        "x=int(input(\"Enter the number\"))\r\n",
        "result=5%x\r\n",
        "print(result)\r\n"
      ],
      "execution_count": 11,
      "outputs": [
        {
          "output_type": "stream",
          "text": [
            "Enter the number0\n",
            "0\n"
          ],
          "name": "stdout"
        },
        {
          "output_type": "error",
          "ename": "ZeroDivisionError",
          "evalue": "ignored",
          "traceback": [
            "\u001b[0;31m---------------------------------------------------------------------------\u001b[0m",
            "\u001b[0;31mZeroDivisionError\u001b[0m                         Traceback (most recent call last)",
            "\u001b[0;32m<ipython-input-11-546fba98176a>\u001b[0m in \u001b[0;36m<module>\u001b[0;34m()\u001b[0m\n\u001b[1;32m      1\u001b[0m \u001b[0mx\u001b[0m\u001b[0;34m=\u001b[0m\u001b[0mint\u001b[0m\u001b[0;34m(\u001b[0m\u001b[0minput\u001b[0m\u001b[0;34m(\u001b[0m\u001b[0;34m\"Enter the number\"\u001b[0m\u001b[0;34m)\u001b[0m\u001b[0;34m)\u001b[0m\u001b[0;34m\u001b[0m\u001b[0;34m\u001b[0m\u001b[0m\n\u001b[1;32m      2\u001b[0m \u001b[0mprint\u001b[0m\u001b[0;34m(\u001b[0m\u001b[0mx\u001b[0m\u001b[0;34m)\u001b[0m\u001b[0;34m\u001b[0m\u001b[0;34m\u001b[0m\u001b[0m\n\u001b[0;32m----> 3\u001b[0;31m \u001b[0mresult\u001b[0m\u001b[0;34m=\u001b[0m\u001b[0;36m5\u001b[0m\u001b[0;34m%\u001b[0m\u001b[0mx\u001b[0m\u001b[0;34m\u001b[0m\u001b[0;34m\u001b[0m\u001b[0m\n\u001b[0m\u001b[1;32m      4\u001b[0m \u001b[0mprint\u001b[0m\u001b[0;34m(\u001b[0m\u001b[0mresult\u001b[0m\u001b[0;34m)\u001b[0m\u001b[0;34m\u001b[0m\u001b[0;34m\u001b[0m\u001b[0m\n",
            "\u001b[0;31mZeroDivisionError\u001b[0m: integer division or modulo by zero"
          ]
        }
      ]
    },
    {
      "cell_type": "code",
      "metadata": {
        "colab": {
          "base_uri": "https://localhost:8080/"
        },
        "id": "0EtUTv5WxAlG",
        "outputId": "90c19a32-37d0-4dd8-a102-e8a1df6e136a"
      },
      "source": [
        "x=int(input(\"Enter the number\"))\r\n",
        "try:\r\n",
        "  result=5%x\r\n",
        "  print(result)\r\n",
        "except:\r\n",
        "  print(\"The value you enter is\"+str(x))\r\n",
        "  print(\"Zero is not allowed\")"
      ],
      "execution_count": 12,
      "outputs": [
        {
          "output_type": "stream",
          "text": [
            "Enter the number0\n",
            "The value you enter is0\n",
            "Zero is not allowed\n"
          ],
          "name": "stdout"
        }
      ]
    },
    {
      "cell_type": "code",
      "metadata": {
        "colab": {
          "base_uri": "https://localhost:8080/"
        },
        "id": "T8Dd36Xqu4v3",
        "outputId": "e4eb2ed6-4b26-407c-a73f-83f0a451fa32"
      },
      "source": [
        "# import module sys to get the type of exception\r\n",
        "import sys\r\n",
        "\r\n",
        "r_divisor = ['0','ch',2]\r\n",
        "\r\n",
        "for divisor in r_divisor:\r\n",
        "    try:\r\n",
        "        print(\"The value is\", divisor)\r\n",
        "        result = 1/int(divisor)\r\n",
        "        break\r\n",
        "    except:\r\n",
        "        print(\"Sorry, Some !\", sys.exc_info()[0], \"occurred.\")\r\n",
        "        print(\"Next value in random list.\")\r\n",
        "        print()\r\n",
        "print(\"The reciprocal of\",divisor, \"is\", result)"
      ],
      "execution_count": 6,
      "outputs": [
        {
          "output_type": "stream",
          "text": [
            "The value is 0\n",
            "Sorry, Some ! <class 'ZeroDivisionError'> occurred.\n",
            "Next value in random list.\n",
            "\n",
            "The value is ch\n",
            "Sorry, Some ! <class 'ValueError'> occurred.\n",
            "Next value in random list.\n",
            "\n",
            "The value is 2\n",
            "The reciprocal of 2 is 0.5\n"
          ],
          "name": "stdout"
        }
      ]
    },
    {
      "cell_type": "markdown",
      "metadata": {
        "id": "R8ZErhtcyGxW"
      },
      "source": [
        "# Different types of Exceptions\r\n",
        "## Inbulit\r\n",
        " ### Many inbuilt types of Exceptions \r\n",
        " #### Value Error, Zero Division etc.\r\n",
        "## User defined\r\n",
        " #### Self defined by creating its class\r\n",
        "# Inbuilt\r\n",
        "## Catching Specific one"
      ]
    },
    {
      "cell_type": "code",
      "metadata": {
        "id": "h7tAiV4Qv-47"
      },
      "source": [
        "try:\r\n",
        "   # do something\r\n",
        "   pass\r\n",
        "\r\n",
        "except (TypeError,ValueError):\r\n",
        "   # handling many exception\r\n",
        "   pass\r\n",
        "\r\n",
        "except ZeroDivisionError:\r\n",
        "   #ZeroDivisionError\r\n",
        "   pass\r\n",
        "\r\n",
        "except:\r\n",
        "   # handle all other exceptions\r\n",
        "   pass"
      ],
      "execution_count": null,
      "outputs": []
    },
    {
      "cell_type": "markdown",
      "metadata": {
        "id": "3wLJCtFqypYy"
      },
      "source": [
        "# Raising Exceptions\r\n",
        "## Exceptions are raised when errors occur at runtime. \r\n",
        "## One can also manually raise exceptions using the raise keyword.\r\n",
        "## Optionally pass values to the exception to clarify why that exception was raised."
      ]
    },
    {
      "cell_type": "code",
      "metadata": {
        "colab": {
          "base_uri": "https://localhost:8080/",
          "height": 166
        },
        "id": "Ejibxld0GC4x",
        "outputId": "93736b01-f2c4-48c1-d322-822240dd3a65"
      },
      "source": [
        "raise KeyboardInterrupt"
      ],
      "execution_count": 13,
      "outputs": [
        {
          "output_type": "error",
          "ename": "KeyboardInterrupt",
          "evalue": "ignored",
          "traceback": [
            "\u001b[0;31m---------------------------------------------------------------------------\u001b[0m",
            "\u001b[0;31mKeyboardInterrupt\u001b[0m                         Traceback (most recent call last)",
            "\u001b[0;32m<ipython-input-13-c761920b81b0>\u001b[0m in \u001b[0;36m<module>\u001b[0;34m()\u001b[0m\n\u001b[0;32m----> 1\u001b[0;31m \u001b[0;32mraise\u001b[0m \u001b[0mKeyboardInterrupt\u001b[0m\u001b[0;34m\u001b[0m\u001b[0;34m\u001b[0m\u001b[0m\n\u001b[0m",
            "\u001b[0;31mKeyboardInterrupt\u001b[0m: "
          ]
        }
      ]
    },
    {
      "cell_type": "code",
      "metadata": {
        "colab": {
          "base_uri": "https://localhost:8080/",
          "height": 166
        },
        "id": "PUTOgi9uGfS1",
        "outputId": "2417a1e4-05c2-4d02-ba6a-220c910a1061"
      },
      "source": [
        "raise MemoryError(\"This is an argument\")"
      ],
      "execution_count": 14,
      "outputs": [
        {
          "output_type": "error",
          "ename": "MemoryError",
          "evalue": "ignored",
          "traceback": [
            "\u001b[0;31m---------------------------------------------------------------------------\u001b[0m",
            "\u001b[0;31mMemoryError\u001b[0m                               Traceback (most recent call last)",
            "\u001b[0;32m<ipython-input-14-51782e52f201>\u001b[0m in \u001b[0;36m<module>\u001b[0;34m()\u001b[0m\n\u001b[0;32m----> 1\u001b[0;31m \u001b[0;32mraise\u001b[0m \u001b[0mMemoryError\u001b[0m\u001b[0;34m(\u001b[0m\u001b[0;34m\"This is an argument\"\u001b[0m\u001b[0;34m)\u001b[0m\u001b[0;34m\u001b[0m\u001b[0;34m\u001b[0m\u001b[0m\n\u001b[0m",
            "\u001b[0;31mMemoryError\u001b[0m: This is an argument"
          ]
        }
      ]
    },
    {
      "cell_type": "code",
      "metadata": {
        "colab": {
          "base_uri": "https://localhost:8080/"
        },
        "id": "EkgLYfZgGoPC",
        "outputId": "4916f334-94a0-4f85-8fd3-bf52c8aa7d6d"
      },
      "source": [
        "try:\r\n",
        "  a = int(input(\"Enter a positive integer: \"))\r\n",
        "  if a <= 0:\r\n",
        "      raise ValueError(\"That is not a positive number!\")\r\n",
        "except ValueError as ve:\r\n",
        "         print(ve)"
      ],
      "execution_count": 16,
      "outputs": [
        {
          "output_type": "stream",
          "text": [
            "Enter a positive integer: -1\n",
            "That is not a positive number!\n"
          ],
          "name": "stdout"
        }
      ]
    },
    {
      "cell_type": "markdown",
      "metadata": {
        "id": "SAgyFJqfHKQA"
      },
      "source": [
        "# Python try with else clause\r\n",
        "## If the code block inside try ran without any errors. For these cases, you can use the optional else keyword with the try statement."
      ]
    },
    {
      "cell_type": "code",
      "metadata": {
        "colab": {
          "base_uri": "https://localhost:8080/"
        },
        "id": "pql7KMVTG9XR",
        "outputId": "95f8b877-e019-46d2-d8bb-9acb3cbfdfa7"
      },
      "source": [
        "# program to print the reciprocal of even numbers\r\n",
        "\r\n",
        "try:\r\n",
        "    num = int(input(\"Enter a number: \"))\r\n",
        "    assert num % 2 == 0\r\n",
        "except:\r\n",
        "    print(\"Not an even number!\")\r\n",
        "else:\r\n",
        "    reciprocal = 1/num\r\n",
        "    print(reciprocal)"
      ],
      "execution_count": 17,
      "outputs": [
        {
          "output_type": "stream",
          "text": [
            "Enter a number: 5\n",
            "Not an even number!\n"
          ],
          "name": "stdout"
        }
      ]
    },
    {
      "cell_type": "code",
      "metadata": {
        "colab": {
          "base_uri": "https://localhost:8080/",
          "height": 235
        },
        "id": "hjpqpizZHn4h",
        "outputId": "8d2cae08-7454-452b-efb0-9b48c10ba84e"
      },
      "source": [
        "# program to print the reciprocal of even numbers\r\n",
        "\r\n",
        "try:\r\n",
        "    num = int(input(\"Enter a number: \"))\r\n",
        "    assert num % 2 == 0\r\n",
        "except:\r\n",
        "    print(\"Not an even number!\")\r\n",
        "else:\r\n",
        "    reciprocal = 1/num\r\n",
        "    print(reciprocal)"
      ],
      "execution_count": 18,
      "outputs": [
        {
          "output_type": "stream",
          "text": [
            "Enter a number: 0\n"
          ],
          "name": "stdout"
        },
        {
          "output_type": "error",
          "ename": "ZeroDivisionError",
          "evalue": "ignored",
          "traceback": [
            "\u001b[0;31m---------------------------------------------------------------------------\u001b[0m",
            "\u001b[0;31mZeroDivisionError\u001b[0m                         Traceback (most recent call last)",
            "\u001b[0;32m<ipython-input-18-6e257cf75558>\u001b[0m in \u001b[0;36m<module>\u001b[0;34m()\u001b[0m\n\u001b[1;32m      7\u001b[0m     \u001b[0mprint\u001b[0m\u001b[0;34m(\u001b[0m\u001b[0;34m\"Not an even number!\"\u001b[0m\u001b[0;34m)\u001b[0m\u001b[0;34m\u001b[0m\u001b[0;34m\u001b[0m\u001b[0m\n\u001b[1;32m      8\u001b[0m \u001b[0;32melse\u001b[0m\u001b[0;34m:\u001b[0m\u001b[0;34m\u001b[0m\u001b[0;34m\u001b[0m\u001b[0m\n\u001b[0;32m----> 9\u001b[0;31m     \u001b[0mreciprocal\u001b[0m \u001b[0;34m=\u001b[0m \u001b[0;36m1\u001b[0m\u001b[0;34m/\u001b[0m\u001b[0mnum\u001b[0m\u001b[0;34m\u001b[0m\u001b[0;34m\u001b[0m\u001b[0m\n\u001b[0m\u001b[1;32m     10\u001b[0m     \u001b[0mprint\u001b[0m\u001b[0;34m(\u001b[0m\u001b[0mreciprocal\u001b[0m\u001b[0;34m)\u001b[0m\u001b[0;34m\u001b[0m\u001b[0;34m\u001b[0m\u001b[0m\n",
            "\u001b[0;31mZeroDivisionError\u001b[0m: division by zero"
          ]
        }
      ]
    },
    {
      "cell_type": "markdown",
      "metadata": {
        "id": "GwsVcEEvINMq"
      },
      "source": [
        "# Python try...finally\r\n",
        "##  The try statement in Python can have an optional finally clause. This clause is executed no matter what, and is generally used to release external resources.\r\n",
        "\r\n",
        "\r\n",
        "```\r\n",
        "try:\r\n",
        "   f = open(\"test.txt\",encoding = 'utf-8')\r\n",
        "   # perform file operations\r\n",
        "finally:\r\n",
        "   f.close()\r\n",
        "```\r\n",
        "\r\n",
        "## Another example\r\n",
        "\r\n",
        "\r\n",
        "```\r\n",
        "try:\r\n",
        "       # Some Code.... \r\n",
        "\r\n",
        "except:\r\n",
        "       # optional block\r\n",
        "       # Handling of exception (if required)\r\n",
        "\r\n",
        "else:\r\n",
        "       # execute if no exception\r\n",
        "\r\n",
        "finally:\r\n",
        "      # Some code .....(always executed)\r\n",
        "```\r\n",
        "# Creating Custom Exceptions\r\n",
        "## Users can define custom exceptions by creating a new class. This exception class has to be derived, either directly or indirectly, from the built-in Exception class. Most of the built-in exceptions are also derived from this class.\r\n",
        "\r\n",
        "\r\n",
        "\r\n",
        "```\r\n",
        "class SystemError(Exception):\r\n",
        "  pass\r\n",
        "\r\n",
        "raise SystemError(\"An error occurred\")\r\n",
        "```\r\n",
        "\r\n",
        "\r\n",
        "\r\n"
      ]
    },
    {
      "cell_type": "code",
      "metadata": {
        "colab": {
          "base_uri": "https://localhost:8080/",
          "height": 201
        },
        "id": "hTMaFS4mHvqx",
        "outputId": "b9958be5-0666-4f04-a684-251f0f68a395"
      },
      "source": [
        "class SystemError(Exception):\r\n",
        "  pass\r\n",
        "\r\n",
        "raise SystemError(\"An error occurred\")"
      ],
      "execution_count": 20,
      "outputs": [
        {
          "output_type": "error",
          "ename": "SystemError",
          "evalue": "ignored",
          "traceback": [
            "\u001b[0;31m---------------------------------------------------------------------------\u001b[0m",
            "\u001b[0;31mSystemError\u001b[0m                               Traceback (most recent call last)",
            "\u001b[0;32m<ipython-input-20-a569bf74249b>\u001b[0m in \u001b[0;36m<module>\u001b[0;34m()\u001b[0m\n\u001b[1;32m      2\u001b[0m   \u001b[0;32mpass\u001b[0m\u001b[0;34m\u001b[0m\u001b[0;34m\u001b[0m\u001b[0m\n\u001b[1;32m      3\u001b[0m \u001b[0;34m\u001b[0m\u001b[0m\n\u001b[0;32m----> 4\u001b[0;31m \u001b[0;32mraise\u001b[0m \u001b[0mSystemError\u001b[0m\u001b[0;34m(\u001b[0m\u001b[0;34m\"An error occurred\"\u001b[0m\u001b[0;34m)\u001b[0m\u001b[0;34m\u001b[0m\u001b[0;34m\u001b[0m\u001b[0m\n\u001b[0m",
            "\u001b[0;31mSystemError\u001b[0m: An error occurred"
          ]
        }
      ]
    },
    {
      "cell_type": "code",
      "metadata": {
        "colab": {
          "base_uri": "https://localhost:8080/"
        },
        "id": "2XRjtW0dLVAT",
        "outputId": "765b0470-6a9b-4175-c9a8-b0412897b3ff"
      },
      "source": [
        "# define Python user-defined exceptions\r\n",
        "class p_Error(Exception):\r\n",
        "    \"\"\"Base class for all exceptions\"\"\"\r\n",
        "    pass\r\n",
        "\r\n",
        "class Vtsmall(Error):\r\n",
        "    \"\"\"Raised when the input value is too small\"\"\"\r\n",
        "    pass\r\n",
        "\r\n",
        "class Vtlarge(Error):\r\n",
        "    \"\"\"Raised when the input value is too large\"\"\"\r\n",
        "    pass\r\n",
        "\r\n",
        "number = 50\r\n",
        "\r\n",
        "try:\r\n",
        "    i_num = int(input(\"Enter your marks in two digits: \"))\r\n",
        "    if i_num < number:\r\n",
        "        raise Vtsmall\r\n",
        "    elif i_num > number:\r\n",
        "        raise Vtlarge\r\n",
        "except Vtsmall:\r\n",
        "        print(\" Dont under-estimate you, try again!\")\r\n",
        "except Vtlarge:\r\n",
        "        print(\"Over Confidence Performance, try again!\")\r\n",
        "\r\n",
        "\r\n"
      ],
      "execution_count": 24,
      "outputs": [
        {
          "output_type": "stream",
          "text": [
            "Enter your marks in two digits: 54\n",
            "This value is too large, try again!\n"
          ],
          "name": "stdout"
        }
      ]
    },
    {
      "cell_type": "markdown",
      "metadata": {
        "id": "6rqfwOr7NQER"
      },
      "source": [
        "# Reference\r\n",
        "#### This code has been referred from multiple sources. Most of the sources were mentioned in the Reference. The code has been modified by Abhishek Kaushik for the education purpose. \r\n",
        "##### W3 school accessed on 10/01/2021\r\n",
        "##### Programiz https://www.programiz.com/python-programming/user-defined-exception accessed on 10/01/2021\r\n",
        "# Disclaimer\r\n",
        "##### Created for Educational purpose. Abhishek assumes no responsibility or liability for any errors or omissions in this content. The information contained in the code is provided on an \"as is\" basis with no guarantees of completeness, accuracy, usefulness or timeliness..  "
      ]
    },
    {
      "cell_type": "code",
      "metadata": {
        "id": "t7pOM_MrMIRf"
      },
      "source": [
        ""
      ],
      "execution_count": 23,
      "outputs": []
    }
  ]
}