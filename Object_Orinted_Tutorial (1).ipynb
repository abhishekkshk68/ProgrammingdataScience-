{
  "nbformat": 4,
  "nbformat_minor": 0,
  "metadata": {
    "colab": {
      "name": "Object_Orinted_Tutorial.ipynb",
      "provenance": []
    },
    "kernelspec": {
      "name": "python3",
      "display_name": "Python 3"
    }
  },
  "cells": [
    {
      "cell_type": "markdown",
      "metadata": {
        "id": "it_NMQzjdyVL"
      },
      "source": [
        ""
      ]
    },
    {
      "cell_type": "markdown",
      "metadata": {
        "id": "YneFUJS0KtT2"
      },
      "source": [
        "#Class "
      ]
    },
    {
      "cell_type": "code",
      "metadata": {
        "id": "ela51-VRKN5b"
      },
      "source": [
        "class employee:\n",
        "  pass\n",
        "\n",
        "\n",
        "Abhishek=employee()\n",
        "Ram=employee() "
      ],
      "execution_count": 1,
      "outputs": []
    },
    {
      "cell_type": "code",
      "metadata": {
        "id": "fKGi_QetLA9E"
      },
      "source": [
        "Abhishek.fname=\"Abhishek\"\n",
        "Abhishek.lname=\"Kaushik\"\n",
        "Abhishek.salary=\"00000\"\n",
        "\n",
        "Ram.fname=\"Ram\"\n",
        "Ram.lname=\"chandra\"\n",
        "Ram.salary=\"1000000000\"\n"
      ],
      "execution_count": 4,
      "outputs": []
    },
    {
      "cell_type": "code",
      "metadata": {
        "colab": {
          "base_uri": "https://localhost:8080/",
          "height": 0
        },
        "id": "YtGKlUHwLdp5",
        "outputId": "c59cd4ba-806b-4605-8131-4ff9efe84cbb"
      },
      "source": [
        "print(Abhishek.fname)"
      ],
      "execution_count": 6,
      "outputs": [
        {
          "output_type": "stream",
          "text": [
            "Abhishek\n"
          ],
          "name": "stdout"
        }
      ]
    },
    {
      "cell_type": "code",
      "metadata": {
        "colab": {
          "base_uri": "https://localhost:8080/",
          "height": 0
        },
        "id": "fOElsZtlLzLZ",
        "outputId": "0ca22084-aa41-402b-9346-f7efde6bcedb"
      },
      "source": [
        "print(Ram.salary)"
      ],
      "execution_count": 7,
      "outputs": [
        {
          "output_type": "stream",
          "text": [
            "1000000000\n"
          ],
          "name": "stdout"
        }
      ]
    },
    {
      "cell_type": "code",
      "metadata": {
        "colab": {
          "base_uri": "https://localhost:8080/",
          "height": 0
        },
        "id": "7Kae-d-RL5dJ",
        "outputId": "a2657104-d00c-4218-8e72-6a17fe41d554"
      },
      "source": [
        "print(Abhishek,Ram)"
      ],
      "execution_count": 8,
      "outputs": [
        {
          "output_type": "stream",
          "text": [
            "<__main__.employee object at 0x7f284240f400> <__main__.employee object at 0x7f284240f3c8>\n"
          ],
          "name": "stdout"
        }
      ]
    },
    {
      "cell_type": "markdown",
      "metadata": {
        "id": "BMbbfyUSMTlO"
      },
      "source": [
        "# Constructor "
      ]
    },
    {
      "cell_type": "code",
      "metadata": {
        "id": "tbA3-NDNMFw4"
      },
      "source": [
        "class employee():\n",
        "\n",
        "  def __init__(self,fname,sname,salary):\n",
        "      self.fname=fname\n",
        "      self.sname=sname\n",
        "      self.salary=salary\n"
      ],
      "execution_count": 9,
      "outputs": []
    },
    {
      "cell_type": "code",
      "metadata": {
        "id": "uGjWHhNrYzMj"
      },
      "source": [
        "Abhishek=employee(\"Abhi\",\"kaushik\",\"2000\")\n",
        "Ram=employee(\"Ram\",\"Chandra\",\"5000\") "
      ],
      "execution_count": 10,
      "outputs": []
    },
    {
      "cell_type": "code",
      "metadata": {
        "colab": {
          "base_uri": "https://localhost:8080/",
          "height": 0
        },
        "id": "7FKsU_ojZZX0",
        "outputId": "3cd29462-2a9f-4ef0-ecd3-9195cecb1d3d"
      },
      "source": [
        "print(Abhishek.fname)"
      ],
      "execution_count": 11,
      "outputs": [
        {
          "output_type": "stream",
          "text": [
            "Abhi\n"
          ],
          "name": "stdout"
        }
      ]
    },
    {
      "cell_type": "code",
      "metadata": {
        "colab": {
          "base_uri": "https://localhost:8080/",
          "height": 0
        },
        "id": "rcqtWmyYZdTk",
        "outputId": "2484c928-1fed-48d6-bf6d-badcb5f09256"
      },
      "source": [
        "print(Ram.fname)"
      ],
      "execution_count": 12,
      "outputs": [
        {
          "output_type": "stream",
          "text": [
            "Ram\n"
          ],
          "name": "stdout"
        }
      ]
    },
    {
      "cell_type": "markdown",
      "metadata": {
        "id": "AijbAs7Xb3Dp"
      },
      "source": [
        "#  Instance and Class Variables"
      ]
    },
    {
      "cell_type": "code",
      "metadata": {
        "id": "8OsKnb7eZg9k"
      },
      "source": [
        "class employee():\n",
        "   \n",
        "  salay_raise=1.5\n",
        "  def __init__(self,fname,sname,salary):\n",
        "      self.fname=fname\n",
        "      self.sname=sname\n",
        "      self.salary=salary\n",
        "   \n",
        "  def incre():\n",
        "     pass\n",
        "    "
      ],
      "execution_count": 18,
      "outputs": []
    },
    {
      "cell_type": "code",
      "metadata": {
        "id": "bvYTNmzIdKsw"
      },
      "source": [
        "Abhishek=employee(\"Abhi\",\"kaushik\",\"2000\")\n",
        "Ram=employee(\"Ram\",\"Chandra\",\"5000\") "
      ],
      "execution_count": 19,
      "outputs": []
    },
    {
      "cell_type": "code",
      "metadata": {
        "colab": {
          "base_uri": "https://localhost:8080/",
          "height": 166
        },
        "id": "iWGAYKiJdRuD",
        "outputId": "1887fd83-862d-4d5f-ec2a-2d8b5a195f57"
      },
      "source": [
        "Abhishek.incre()"
      ],
      "execution_count": 20,
      "outputs": [
        {
          "output_type": "error",
          "ename": "TypeError",
          "evalue": "ignored",
          "traceback": [
            "\u001b[0;31m---------------------------------------------------------------------------\u001b[0m",
            "\u001b[0;31mTypeError\u001b[0m                                 Traceback (most recent call last)",
            "\u001b[0;32m<ipython-input-20-01a1d61a7a0c>\u001b[0m in \u001b[0;36m<module>\u001b[0;34m()\u001b[0m\n\u001b[0;32m----> 1\u001b[0;31m \u001b[0mAbhishek\u001b[0m\u001b[0;34m.\u001b[0m\u001b[0mincre\u001b[0m\u001b[0;34m(\u001b[0m\u001b[0;34m)\u001b[0m\u001b[0;34m\u001b[0m\u001b[0;34m\u001b[0m\u001b[0m\n\u001b[0m",
            "\u001b[0;31mTypeError\u001b[0m: incre() takes 0 positional arguments but 1 was given"
          ]
        }
      ]
    },
    {
      "cell_type": "code",
      "metadata": {
        "id": "FP0MbBm1dUFz"
      },
      "source": [
        "class employee():\n",
        "   \n",
        "  salay_raise=1.5\n",
        "  def __init__(self,fname,sname,salary):\n",
        "      self.fname=fname\n",
        "      self.sname=sname\n",
        "      self.salary=salary\n",
        "   \n",
        "  def incre(self):\n",
        "     pass\n",
        "\n",
        "Abhishek=employee(\"Abhi\",\"kaushik\",\"2000\")\n",
        "Ram=employee(\"Ram\",\"Chandra\",\"5000\") \n",
        "\n",
        "Abhishek.incre()"
      ],
      "execution_count": 22,
      "outputs": []
    },
    {
      "cell_type": "markdown",
      "metadata": {
        "id": "z4qPROGYepVh"
      },
      "source": [
        "### Outside variable Error  "
      ]
    },
    {
      "cell_type": "code",
      "metadata": {
        "colab": {
          "base_uri": "https://localhost:8080/",
          "height": 322
        },
        "id": "-dBUvZaXdqEF",
        "outputId": "587e8cf7-d229-4bd4-e026-abeba008c487"
      },
      "source": [
        "class employee():\n",
        "   \n",
        "  salary_raise=1.5\n",
        "  def __init__(self,fname,sname,salary):\n",
        "      self.fname=fname\n",
        "      self.sname=sname\n",
        "      self.salary=salary\n",
        "   \n",
        "  def incre(self):\n",
        "     self.salary=1.5*salary_raise\n",
        "\n",
        "Abhishek=employee(\"Abhi\",\"kaushik\",\"2000\")\n",
        "Ram=employee(\"Ram\",\"Chandra\",\"5000\") \n",
        "\n",
        "Abhishek.incre()"
      ],
      "execution_count": 14,
      "outputs": [
        {
          "output_type": "error",
          "ename": "NameError",
          "evalue": "ignored",
          "traceback": [
            "\u001b[0;31m---------------------------------------------------------------------------\u001b[0m",
            "\u001b[0;31mNameError\u001b[0m                                 Traceback (most recent call last)",
            "\u001b[0;32m<ipython-input-14-51382972b1b0>\u001b[0m in \u001b[0;36m<module>\u001b[0;34m()\u001b[0m\n\u001b[1;32m     13\u001b[0m \u001b[0mRam\u001b[0m\u001b[0;34m=\u001b[0m\u001b[0memployee\u001b[0m\u001b[0;34m(\u001b[0m\u001b[0;34m\"Ram\"\u001b[0m\u001b[0;34m,\u001b[0m\u001b[0;34m\"Chandra\"\u001b[0m\u001b[0;34m,\u001b[0m\u001b[0;34m\"5000\"\u001b[0m\u001b[0;34m)\u001b[0m\u001b[0;34m\u001b[0m\u001b[0;34m\u001b[0m\u001b[0m\n\u001b[1;32m     14\u001b[0m \u001b[0;34m\u001b[0m\u001b[0m\n\u001b[0;32m---> 15\u001b[0;31m \u001b[0mAbhishek\u001b[0m\u001b[0;34m.\u001b[0m\u001b[0mincre\u001b[0m\u001b[0;34m(\u001b[0m\u001b[0;34m)\u001b[0m\u001b[0;34m\u001b[0m\u001b[0;34m\u001b[0m\u001b[0m\n\u001b[0m",
            "\u001b[0;32m<ipython-input-14-51382972b1b0>\u001b[0m in \u001b[0;36mincre\u001b[0;34m(self)\u001b[0m\n\u001b[1;32m      8\u001b[0m \u001b[0;34m\u001b[0m\u001b[0m\n\u001b[1;32m      9\u001b[0m   \u001b[0;32mdef\u001b[0m \u001b[0mincre\u001b[0m\u001b[0;34m(\u001b[0m\u001b[0mself\u001b[0m\u001b[0;34m)\u001b[0m\u001b[0;34m:\u001b[0m\u001b[0;34m\u001b[0m\u001b[0;34m\u001b[0m\u001b[0m\n\u001b[0;32m---> 10\u001b[0;31m      \u001b[0mself\u001b[0m\u001b[0;34m.\u001b[0m\u001b[0msalary\u001b[0m\u001b[0;34m=\u001b[0m\u001b[0;36m1.5\u001b[0m\u001b[0;34m*\u001b[0m\u001b[0msalary_raise\u001b[0m\u001b[0;34m\u001b[0m\u001b[0;34m\u001b[0m\u001b[0m\n\u001b[0m\u001b[1;32m     11\u001b[0m \u001b[0;34m\u001b[0m\u001b[0m\n\u001b[1;32m     12\u001b[0m \u001b[0mAbhishek\u001b[0m\u001b[0;34m=\u001b[0m\u001b[0memployee\u001b[0m\u001b[0;34m(\u001b[0m\u001b[0;34m\"Abhi\"\u001b[0m\u001b[0;34m,\u001b[0m\u001b[0;34m\"kaushik\"\u001b[0m\u001b[0;34m,\u001b[0m\u001b[0;34m\"2000\"\u001b[0m\u001b[0;34m)\u001b[0m\u001b[0;34m\u001b[0m\u001b[0;34m\u001b[0m\u001b[0m\n",
            "\u001b[0;31mNameError\u001b[0m: name 'salary_raise' is not defined"
          ]
        }
      ]
    },
    {
      "cell_type": "markdown",
      "metadata": {
        "id": "E1kvRoHjfSf9"
      },
      "source": [
        "# Instance Variable"
      ]
    },
    {
      "cell_type": "code",
      "metadata": {
        "colab": {
          "base_uri": "https://localhost:8080/",
          "height": 0
        },
        "id": "bv1w1qRqfQnV",
        "outputId": "efbcd6ff-237f-4a86-8063-3e4a831ff3ec"
      },
      "source": [
        "class employee():\n",
        "   \n",
        "  salary_raise=1.5\n",
        "  def __init__(self,fname,sname,salary):\n",
        "      self.fname=fname\n",
        "      self.sname=sname\n",
        "      self.salary=int(salary)\n",
        "      self.salary_raise=2\n",
        "   \n",
        "  def incre(self):\n",
        "     self.salary=int(self.salary*self.salary_raise)\n",
        "\n",
        "Abhishek=employee(\"Abhi\",\"kaushik\",\"2000\")\n",
        "Ram=employee(\"Ram\",\"Chandra\",\"5000\") \n",
        "\n",
        "print(Abhishek.salary)\n",
        "Abhishek.incre()\n",
        "print(Abhishek.salary)"
      ],
      "execution_count": 32,
      "outputs": [
        {
          "output_type": "stream",
          "text": [
            "2000\n",
            "4000\n"
          ],
          "name": "stdout"
        }
      ]
    },
    {
      "cell_type": "markdown",
      "metadata": {
        "id": "5BmHzkUZfshI"
      },
      "source": [
        "### Class Variable"
      ]
    },
    {
      "cell_type": "code",
      "metadata": {
        "colab": {
          "base_uri": "https://localhost:8080/",
          "height": 0
        },
        "id": "jRULDjSxfdg1",
        "outputId": "b1ba8c4f-64f8-41a6-f5b4-66729181e29c"
      },
      "source": [
        "class employee():\n",
        "   \n",
        "  salary_raise=1.5\n",
        "  def __init__(self,fname,sname,salary):\n",
        "      self.fname=fname\n",
        "      self.sname=sname\n",
        "      self.salary=int(salary)\n",
        "   \n",
        "  def incre(self):\n",
        "     self.salary=int(self.salary*employee.salary_raise)\n",
        "\n",
        "Abhishek=employee(\"Abhi\",\"kaushik\",\"2000\")\n",
        "Ram=employee(\"Ram\",\"Chandra\",\"5000\") \n",
        "\n",
        "print(Abhishek.salary)\n",
        "Abhishek.incre()\n",
        "print(Abhishek.salary)"
      ],
      "execution_count": 33,
      "outputs": [
        {
          "output_type": "stream",
          "text": [
            "2000\n",
            "3000\n"
          ],
          "name": "stdout"
        }
      ]
    },
    {
      "cell_type": "markdown",
      "metadata": {
        "id": "L-GtYwHfguFI"
      },
      "source": [
        "### Playing around with instance "
      ]
    },
    {
      "cell_type": "code",
      "metadata": {
        "colab": {
          "base_uri": "https://localhost:8080/",
          "height": 0
        },
        "id": "SyqEUUdUgECj",
        "outputId": "9a6a345a-d72b-4bd9-d1a2-68e4f1a217bd"
      },
      "source": [
        "print(Abhishek.__dict__)"
      ],
      "execution_count": 35,
      "outputs": [
        {
          "output_type": "stream",
          "text": [
            "{'fname': 'Abhi', 'sname': 'kaushik', 'salary': 3000}\n"
          ],
          "name": "stdout"
        }
      ]
    },
    {
      "cell_type": "code",
      "metadata": {
        "id": "zJgsy0Alg1dx"
      },
      "source": [
        "Abhishek.salary_raise=int(3)"
      ],
      "execution_count": 39,
      "outputs": []
    },
    {
      "cell_type": "code",
      "metadata": {
        "colab": {
          "base_uri": "https://localhost:8080/",
          "height": 0
        },
        "id": "4AIRSHqzhAoj",
        "outputId": "10685212-bdf2-4974-e034-49842479b94b"
      },
      "source": [
        "print(Abhishek.__dict__)"
      ],
      "execution_count": 40,
      "outputs": [
        {
          "output_type": "stream",
          "text": [
            "{'fname': 'Abhi', 'sname': 'kaushik', 'salary': 4500, 'salary_raise': 3}\n"
          ],
          "name": "stdout"
        }
      ]
    },
    {
      "cell_type": "code",
      "metadata": {
        "colab": {
          "base_uri": "https://localhost:8080/",
          "height": 0
        },
        "id": "dPUEfUF2hG3i",
        "outputId": "5b8dee39-9b0c-4871-9e15-dba9651a5f44"
      },
      "source": [
        "\n",
        "print(Abhishek.salary)\n",
        "Abhishek.incre()\n",
        "print(Abhishek.salary)"
      ],
      "execution_count": 42,
      "outputs": [
        {
          "output_type": "stream",
          "text": [
            "6750\n",
            "10125\n"
          ],
          "name": "stdout"
        }
      ]
    },
    {
      "cell_type": "markdown",
      "metadata": {
        "id": "hYIas3xchsFB"
      },
      "source": [
        "### Viewing class Variable and instance Variable "
      ]
    },
    {
      "cell_type": "code",
      "metadata": {
        "colab": {
          "base_uri": "https://localhost:8080/",
          "height": 0
        },
        "id": "1lJW6DfihSWi",
        "outputId": "c6a79e5b-b2f9-48ae-a665-17c4518d635f"
      },
      "source": [
        "print(Abhishek.__dict__)"
      ],
      "execution_count": 43,
      "outputs": [
        {
          "output_type": "stream",
          "text": [
            "{'fname': 'Abhi', 'sname': 'kaushik', 'salary': 10125, 'salary_raise': 3}\n"
          ],
          "name": "stdout"
        }
      ]
    },
    {
      "cell_type": "code",
      "metadata": {
        "colab": {
          "base_uri": "https://localhost:8080/",
          "height": 0
        },
        "id": "ndyJ4nfJh0tD",
        "outputId": "711dec04-18c3-48b2-ed10-adc89e8df5f0"
      },
      "source": [
        "print(employee.__dict__)"
      ],
      "execution_count": 44,
      "outputs": [
        {
          "output_type": "stream",
          "text": [
            "{'__module__': '__main__', 'salary_raise': 1.5, '__init__': <function employee.__init__ at 0x7f2841a4ce18>, 'incre': <function employee.incre at 0x7f2841a4cea0>, '__dict__': <attribute '__dict__' of 'employee' objects>, '__weakref__': <attribute '__weakref__' of 'employee' objects>, '__doc__': None}\n"
          ],
          "name": "stdout"
        }
      ]
    },
    {
      "cell_type": "markdown",
      "metadata": {
        "id": "_e4DnTJwiMe9"
      },
      "source": [
        "### Playing around with class Variable "
      ]
    },
    {
      "cell_type": "code",
      "metadata": {
        "colab": {
          "base_uri": "https://localhost:8080/",
          "height": 0
        },
        "id": "Z6Yd4odmh6LB",
        "outputId": "60847c4d-72c9-4485-985e-de7bfba92c5b"
      },
      "source": [
        "class employee():\n",
        "   \n",
        "  salary_raise=1.5\n",
        "  no_of_employee=0\n",
        "  def __init__(self,fname,sname,salary):\n",
        "      self.fname=fname\n",
        "      self.sname=sname\n",
        "      self.salary=int(salary)\n",
        "      employee.no_of_employee+=1\n",
        "   \n",
        "  def incre(self):\n",
        "     self.salary=int(self.salary*employee.salary_raise)\n",
        "\n",
        "print(employee.no_of_employee)\n",
        "\n"
      ],
      "execution_count": 52,
      "outputs": [
        {
          "output_type": "stream",
          "text": [
            "0\n"
          ],
          "name": "stdout"
        }
      ]
    },
    {
      "cell_type": "code",
      "metadata": {
        "id": "ZRCQypyPipUt"
      },
      "source": [
        "Abhishek=employee(\"Abhi\",\"kaushik\",\"2000\")\n",
        "Ram=employee(\"Ram\",\"Chandra\",\"5000\") \n"
      ],
      "execution_count": 53,
      "outputs": []
    },
    {
      "cell_type": "code",
      "metadata": {
        "colab": {
          "base_uri": "https://localhost:8080/",
          "height": 0
        },
        "id": "e4yYm-Eei5Nh",
        "outputId": "6cbbaeb4-1404-4f09-c7b0-aec8ee7c0c95"
      },
      "source": [
        "print(employee.no_of_employee)"
      ],
      "execution_count": 54,
      "outputs": [
        {
          "output_type": "stream",
          "text": [
            "2\n"
          ],
          "name": "stdout"
        }
      ]
    },
    {
      "cell_type": "markdown",
      "metadata": {
        "id": "TzwXljc6nUTG"
      },
      "source": [
        "### Class Methods In Python"
      ]
    },
    {
      "cell_type": "code",
      "metadata": {
        "colab": {
          "base_uri": "https://localhost:8080/",
          "height": 0
        },
        "id": "BwamGmo1i52w",
        "outputId": "ea54a477-0260-400a-e963-07e653840aa9"
      },
      "source": [
        "class employee():\n",
        "   \n",
        "  salary_raise=1.5\n",
        "  def __init__(self,fname,sname,salary):\n",
        "      self.fname=fname\n",
        "      self.sname=sname\n",
        "      self.salary=int(salary)\n",
        "   \n",
        "  def increase(self):\n",
        "     self.salary=int(self.salary*employee.salary_raise)\n",
        "  @classmethod\n",
        "  def incre(cls,increment):\n",
        "    cls.salary_raise=increment\n",
        "\n",
        "Abhishek=employee(\"Abhi\",\"kaushik\",\"2000\")\n",
        "Ram=employee(\"Ram\",\"Chandra\",\"5000\") \n",
        "\n",
        "print(Abhishek.salary)\n",
        "Abhishek.incre(3)\n",
        "Abhishek.increase()\n",
        "print(Abhishek.salary)"
      ],
      "execution_count": 4,
      "outputs": [
        {
          "output_type": "stream",
          "text": [
            "2000\n",
            "6000\n"
          ],
          "name": "stdout"
        }
      ]
    },
    {
      "cell_type": "markdown",
      "metadata": {
        "id": "XxOcuK4wpzvh"
      },
      "source": [
        "## Class Methods As Alternative Constructor"
      ]
    },
    {
      "cell_type": "code",
      "metadata": {
        "colab": {
          "base_uri": "https://localhost:8080/",
          "height": 0
        },
        "id": "EwEsxqzVoyub",
        "outputId": "d1cdf1bf-0bc9-4a39-c6e9-a087a20b82ec"
      },
      "source": [
        "class employee():\n",
        "   \n",
        "  salary_raise=1.5\n",
        "  def __init__(self,fname,sname,salary):\n",
        "      self.fname=fname\n",
        "      self.sname=sname\n",
        "      self.salary=int(salary)\n",
        "   \n",
        "  def increase(self):\n",
        "     self.salary=int(self.salary*employee.salary_raise)\n",
        "\n",
        "  @classmethod\n",
        "  def incre(cls,increment):\n",
        "    cls.salary_raise=increment\n",
        "\n",
        "  @classmethod\n",
        "  def class_alternate(cls,string_emp):\n",
        "        fname,sname,salary=string_emp.split(\"_\")\n",
        "        return cls(fname,sname,salary)\n",
        "\n",
        "\n",
        "\n",
        "Abhishek=employee(\"Abhi\",\"kaushik\",\"2000\")\n",
        "Ram=employee(\"Ram\",\"Chandra\",\"5000\") \n",
        "\n",
        "\n",
        "abhi=employee.class_alternate(\"abhi_kaushik_100000\")\n",
        "\n",
        "print(abhi.sname)"
      ],
      "execution_count": 9,
      "outputs": [
        {
          "output_type": "stream",
          "text": [
            "kaushik\n"
          ],
          "name": "stdout"
        }
      ]
    },
    {
      "cell_type": "markdown",
      "metadata": {
        "id": "rYNe08RYupfg"
      },
      "source": [
        "## Static Methods In Python oops"
      ]
    },
    {
      "cell_type": "code",
      "metadata": {
        "colab": {
          "base_uri": "https://localhost:8080/",
          "height": 0
        },
        "id": "9yW1ne9btjiF",
        "outputId": "c98c8154-aa6c-4ca4-e021-4fe7c07659a2"
      },
      "source": [
        "class employee():\n",
        "   \n",
        "  salary_raise=1.5\n",
        "  def __init__(self,fname,sname,salary):\n",
        "      self.fname=fname\n",
        "      self.sname=sname\n",
        "      self.salary=int(salary)\n",
        "   \n",
        "  def increase(self):\n",
        "     self.salary=int(self.salary*employee.salary_raise)\n",
        "\n",
        "  @classmethod\n",
        "  def incre(cls,increment):\n",
        "    cls.salary_raise=increment\n",
        "\n",
        "  @classmethod\n",
        "  def class_alternate(cls,string_emp):\n",
        "        fname,sname,salary=string_emp.split(\"_\")\n",
        "        return cls(fname,sname,salary)\n",
        "  @staticmethod\n",
        "  def salary_static(sal):\n",
        "    if sal>50000:\n",
        "      print(\"good money\")\n",
        "    else:\n",
        "      print(\"less money\")\n",
        "\n",
        "Abhishek=employee(\"Abhi\",\"kaushik\",\"2000\")\n",
        "Ram=employee(\"Ram\",\"Chandra\",\"5000\") \n",
        "abhi=employee.class_alternate(\"abhi_kaushik_100000\")\n",
        "\n",
        "#call by class\n",
        "employee.salary_static(abhi.salary)\n",
        "#call by instance\n",
        "Ram.salary_static(Ram.salary)"
      ],
      "execution_count": 13,
      "outputs": [
        {
          "output_type": "stream",
          "text": [
            "good money\n",
            "less money\n"
          ],
          "name": "stdout"
        }
      ]
    },
    {
      "cell_type": "markdown",
      "metadata": {
        "id": "6sqJAJXAxS5B"
      },
      "source": [
        "# Inheritance In Python oops"
      ]
    },
    {
      "cell_type": "code",
      "metadata": {
        "id": "wI4WiYsywMYB"
      },
      "source": [
        "class data_analyst(employee):\n",
        "  pass\n",
        "\n",
        "obj1=data_analyst(\"Seamus\",\"Quinn\",\"500000\")"
      ],
      "execution_count": 15,
      "outputs": []
    },
    {
      "cell_type": "code",
      "metadata": {
        "colab": {
          "base_uri": "https://localhost:8080/",
          "height": 0
        },
        "id": "oeNwZBMHyLQM",
        "outputId": "7e55e8ad-0260-464e-8f6d-00c03ef70cd6"
      },
      "source": [
        "print(obj1.fname)"
      ],
      "execution_count": 16,
      "outputs": [
        {
          "output_type": "stream",
          "text": [
            "Seamus\n"
          ],
          "name": "stdout"
        }
      ]
    },
    {
      "cell_type": "markdown",
      "metadata": {
        "id": "Ivgm75rPy7Kx"
      },
      "source": [
        "## Super class constructor "
      ]
    },
    {
      "cell_type": "code",
      "metadata": {
        "id": "WYXi4VJKyR02"
      },
      "source": [
        "class data_sci(employee):\n",
        "\n",
        "  def __init__(self,fname,sname,salary,prglan,exp):\n",
        "    super().__init__(fname,sname,salary)\n",
        "    self.praglan=prglan\n",
        "    self.exp=exp"
      ],
      "execution_count": 33,
      "outputs": []
    },
    {
      "cell_type": "code",
      "metadata": {
        "id": "B2pWK2DLzgIS"
      },
      "source": [
        "rahul_k=data_sci(\"rahul\",\"arora\",\"600000\",\"python\",\"5\")"
      ],
      "execution_count": 34,
      "outputs": []
    },
    {
      "cell_type": "code",
      "metadata": {
        "colab": {
          "base_uri": "https://localhost:8080/",
          "height": 0
        },
        "id": "RmEtQtBdzu72",
        "outputId": "091e8509-8a64-4857-f29d-3176d6965746"
      },
      "source": [
        "print(rahul_k.praglan)"
      ],
      "execution_count": 36,
      "outputs": [
        {
          "output_type": "stream",
          "text": [
            "python\n"
          ],
          "name": "stdout"
        }
      ]
    },
    {
      "cell_type": "markdown",
      "metadata": {
        "id": "NBRmK3tE1PE_"
      },
      "source": [
        "#Over Writing a function in child class"
      ]
    },
    {
      "cell_type": "code",
      "metadata": {
        "id": "mkqWVYWZ0tG3"
      },
      "source": [
        "class child_one(employee):\n",
        "    def __init__(self,fname,sname,salary,prglan,exp):\n",
        "      super().__init__(fname,sname,salary)\n",
        "      self.praglan=prglan\n",
        "      self.exp=exp\n",
        "\n",
        "    def increase(self):\n",
        "      self.salary=int(int(self.salary)*(int(employee.salary_raise)+2))"
      ],
      "execution_count": 45,
      "outputs": []
    },
    {
      "cell_type": "code",
      "metadata": {
        "id": "Wh4EoGVp1oTG"
      },
      "source": [
        "obj1=child_one(\"nkit\",\"jama\",\"50000\",\"python\",\"5 years\")\n"
      ],
      "execution_count": 46,
      "outputs": []
    },
    {
      "cell_type": "code",
      "metadata": {
        "colab": {
          "base_uri": "https://localhost:8080/",
          "height": 0
        },
        "id": "UKtiEMd917Yw",
        "outputId": "80cf5695-81f6-456c-b06c-28ead12e9c80"
      },
      "source": [
        "print(obj1.salary)\n",
        "obj1.increase()\n",
        "print(obj1.salary)"
      ],
      "execution_count": 47,
      "outputs": [
        {
          "output_type": "stream",
          "text": [
            "50000\n",
            "150000\n"
          ],
          "name": "stdout"
        }
      ]
    },
    {
      "cell_type": "markdown",
      "metadata": {
        "id": "25FipV3e2u2N"
      },
      "source": [
        "# OOPs details by help command. "
      ]
    },
    {
      "cell_type": "code",
      "metadata": {
        "id": "ZKQ6-TFD2vPK"
      },
      "source": [
        ""
      ],
      "execution_count": null,
      "outputs": []
    },
    {
      "cell_type": "code",
      "metadata": {
        "colab": {
          "base_uri": "https://localhost:8080/",
          "height": 0
        },
        "id": "p8cobY1Z2Kl_",
        "outputId": "e5f83945-0116-4737-e10d-a3f3e9a2240e"
      },
      "source": [
        "print(help(child_one))"
      ],
      "execution_count": 48,
      "outputs": [
        {
          "output_type": "stream",
          "text": [
            "Help on class child_one in module __main__:\n",
            "\n",
            "class child_one(employee)\n",
            " |  Method resolution order:\n",
            " |      child_one\n",
            " |      employee\n",
            " |      builtins.object\n",
            " |  \n",
            " |  Methods defined here:\n",
            " |  \n",
            " |  __init__(self, fname, sname, salary, prglan, exp)\n",
            " |      Initialize self.  See help(type(self)) for accurate signature.\n",
            " |  \n",
            " |  increase(self)\n",
            " |  \n",
            " |  ----------------------------------------------------------------------\n",
            " |  Methods inherited from employee:\n",
            " |  \n",
            " |  incre(self)\n",
            " |  \n",
            " |  ----------------------------------------------------------------------\n",
            " |  Data descriptors inherited from employee:\n",
            " |  \n",
            " |  __dict__\n",
            " |      dictionary for instance variables (if defined)\n",
            " |  \n",
            " |  __weakref__\n",
            " |      list of weak references to the object (if defined)\n",
            " |  \n",
            " |  ----------------------------------------------------------------------\n",
            " |  Data and other attributes inherited from employee:\n",
            " |  \n",
            " |  salary_raise = 1.5\n",
            "\n",
            "None\n"
          ],
          "name": "stdout"
        }
      ]
    },
    {
      "cell_type": "code",
      "metadata": {
        "colab": {
          "base_uri": "https://localhost:8080/",
          "height": 0
        },
        "id": "3Yx8S8S22g9k",
        "outputId": "6e985228-988d-4874-e8ee-07a0f4de756f"
      },
      "source": [
        "help(child_one)"
      ],
      "execution_count": 49,
      "outputs": [
        {
          "output_type": "stream",
          "text": [
            "Help on class child_one in module __main__:\n",
            "\n",
            "class child_one(employee)\n",
            " |  Method resolution order:\n",
            " |      child_one\n",
            " |      employee\n",
            " |      builtins.object\n",
            " |  \n",
            " |  Methods defined here:\n",
            " |  \n",
            " |  __init__(self, fname, sname, salary, prglan, exp)\n",
            " |      Initialize self.  See help(type(self)) for accurate signature.\n",
            " |  \n",
            " |  increase(self)\n",
            " |  \n",
            " |  ----------------------------------------------------------------------\n",
            " |  Methods inherited from employee:\n",
            " |  \n",
            " |  incre(self)\n",
            " |  \n",
            " |  ----------------------------------------------------------------------\n",
            " |  Data descriptors inherited from employee:\n",
            " |  \n",
            " |  __dict__\n",
            " |      dictionary for instance variables (if defined)\n",
            " |  \n",
            " |  __weakref__\n",
            " |      list of weak references to the object (if defined)\n",
            " |  \n",
            " |  ----------------------------------------------------------------------\n",
            " |  Data and other attributes inherited from employee:\n",
            " |  \n",
            " |  salary_raise = 1.5\n",
            "\n"
          ],
          "name": "stdout"
        }
      ]
    },
    {
      "cell_type": "markdown",
      "metadata": {
        "id": "3lEm5z3pUiYR"
      },
      "source": [
        "# Magic/Dunder Methods In Python?"
      ]
    },
    {
      "cell_type": "code",
      "metadata": {
        "colab": {
          "base_uri": "https://localhost:8080/"
        },
        "id": "bA36iWraXsPm",
        "outputId": "e31e67bc-03d9-4a6a-f8e6-d7bc4d6a0111"
      },
      "source": [
        "print(5+2)\n",
        "a=25\n",
        "print(a.__add__(6))"
      ],
      "execution_count": 8,
      "outputs": [
        {
          "output_type": "stream",
          "text": [
            "7\n",
            "31\n"
          ],
          "name": "stdout"
        }
      ]
    },
    {
      "cell_type": "code",
      "metadata": {
        "colab": {
          "base_uri": "https://localhost:8080/",
          "height": 201
        },
        "id": "Rj968Qz_Yl3B",
        "outputId": "9536424a-5eaf-405e-bf16-9da0842e273f"
      },
      "source": [
        "class employee():\n",
        "   \n",
        "  salary_raise=1.5\n",
        "  def __init__(self,fname,sname,salary):\n",
        "      self.fname=fname\n",
        "      self.sname=sname\n",
        "      self.salary=int(salary)\n",
        "      self.salary_raise=2\n",
        "   \n",
        "  def incre(self):\n",
        "     self.salary=int(self.salary*self.salary_raise)\n",
        "\n",
        "\n",
        "\n",
        "Abhishek=employee(\"Abhi\",\"kaushik\",\"2000\")\n",
        "Ram=employee(\"Ram\",\"Chandra\",\"5000\") \n",
        "\n",
        "print(Abhishek+Ram)"
      ],
      "execution_count": 9,
      "outputs": [
        {
          "output_type": "error",
          "ename": "TypeError",
          "evalue": "ignored",
          "traceback": [
            "\u001b[0;31m---------------------------------------------------------------------------\u001b[0m",
            "\u001b[0;31mTypeError\u001b[0m                                 Traceback (most recent call last)",
            "\u001b[0;32m<ipython-input-9-05c5946d2595>\u001b[0m in \u001b[0;36m<module>\u001b[0;34m()\u001b[0m\n\u001b[1;32m     16\u001b[0m \u001b[0mRam\u001b[0m\u001b[0;34m=\u001b[0m\u001b[0memployee\u001b[0m\u001b[0;34m(\u001b[0m\u001b[0;34m\"Ram\"\u001b[0m\u001b[0;34m,\u001b[0m\u001b[0;34m\"Chandra\"\u001b[0m\u001b[0;34m,\u001b[0m\u001b[0;34m\"5000\"\u001b[0m\u001b[0;34m)\u001b[0m\u001b[0;34m\u001b[0m\u001b[0;34m\u001b[0m\u001b[0m\n\u001b[1;32m     17\u001b[0m \u001b[0;34m\u001b[0m\u001b[0m\n\u001b[0;32m---> 18\u001b[0;31m \u001b[0mprint\u001b[0m\u001b[0;34m(\u001b[0m\u001b[0mAbhishek\u001b[0m\u001b[0;34m+\u001b[0m\u001b[0mRam\u001b[0m\u001b[0;34m)\u001b[0m\u001b[0;34m\u001b[0m\u001b[0;34m\u001b[0m\u001b[0m\n\u001b[0m",
            "\u001b[0;31mTypeError\u001b[0m: unsupported operand type(s) for +: 'employee' and 'employee'"
          ]
        }
      ]
    },
    {
      "cell_type": "code",
      "metadata": {
        "colab": {
          "base_uri": "https://localhost:8080/"
        },
        "id": "T0aX9Fr93EtF",
        "outputId": "5ea1005b-5e4b-473e-e370-66c462634c08"
      },
      "source": [
        "class employee():\n",
        "   \n",
        "  salary_raise=1.5\n",
        "  def __init__(self,fname,sname,salary):\n",
        "      self.fname=fname\n",
        "      self.sname=sname\n",
        "      self.salary=int(salary)\n",
        "      self.salary_raise=2\n",
        "   \n",
        "  def incre(self):\n",
        "     self.salary=int(self.salary*self.salary_raise)\n",
        "\n",
        "  def __add__(self,other):\n",
        "    return (self.salary+other.salary)\n",
        "\n",
        "Abhishek=employee(\"Abhi\",\"kaushik\",\"2000\")\n",
        "Ram=employee(\"Ram\",\"Chandra\",\"5000\") \n",
        "\n",
        "print(Abhishek+Ram)"
      ],
      "execution_count": 2,
      "outputs": [
        {
          "output_type": "stream",
          "text": [
            "7000\n"
          ],
          "name": "stdout"
        }
      ]
    },
    {
      "cell_type": "markdown",
      "metadata": {
        "id": "3n5GKWF6YuzD"
      },
      "source": [
        "## __rper__\n",
        "\n",
        "## __str__"
      ]
    },
    {
      "cell_type": "code",
      "metadata": {
        "colab": {
          "base_uri": "https://localhost:8080/"
        },
        "id": "jsnK1IX5Xb1R",
        "outputId": "be417003-4818-4d69-ea65-eef27fe607e4"
      },
      "source": [
        "class employee():\n",
        "   \n",
        "  salary_raise=1.5\n",
        "  def __init__(self,fname,sname,salary):\n",
        "      self.fname=fname\n",
        "      self.sname=sname\n",
        "      self.salary=int(salary)\n",
        "      self.salary_raise=2\n",
        "   \n",
        "  def incre(self):\n",
        "     self.salary=int(self.salary*self.salary_raise)\n",
        "\n",
        "  def __add__(self,other):\n",
        "    return (self.salary+other.salary)\n",
        "\n",
        "  #def __rper__(self):\n",
        "   #  return self.fname \n",
        "\n",
        "Abhishek=employee(\"Abhi\",\"kaushik\",\"2000\")\n",
        "Ram=employee(\"Ram\",\"Chandra\",\"5000\") \n",
        "\n",
        "print(Abhishek)"
      ],
      "execution_count": 10,
      "outputs": [
        {
          "output_type": "stream",
          "text": [
            "<__main__.employee object at 0x7f6f3974e7f0>\n"
          ],
          "name": "stdout"
        }
      ]
    },
    {
      "cell_type": "code",
      "metadata": {
        "colab": {
          "base_uri": "https://localhost:8080/"
        },
        "id": "FaM3xdmVaAwN",
        "outputId": "77a447de-6d74-4dbb-9925-cf295264d13b"
      },
      "source": [
        "class employee():\n",
        "   \n",
        "  salary_raise=1.5\n",
        "  def __init__(self,fname,sname,salary):\n",
        "      self.fname=fname\n",
        "      self.sname=sname\n",
        "      self.salary=int(salary)\n",
        "      self.salary_raise=2\n",
        "   \n",
        "  def incre(self):\n",
        "     self.salary=int(self.salary*self.salary_raise)\n",
        "\n",
        "  def __add__(self,other):\n",
        "    return (self.salary+other.salary)\n",
        "\n",
        "  def __repr__(self):\n",
        "     return self.fname \n",
        "\n",
        "Abhishek=employee(\"Abhi\",\"kaushik\",\"2000\")\n",
        "Ram=employee(\"Ram\",\"Chandra\",\"5000\") \n",
        "\n",
        "print(repr(Abhishek))"
      ],
      "execution_count": 15,
      "outputs": [
        {
          "output_type": "stream",
          "text": [
            "Abhi\n"
          ],
          "name": "stdout"
        }
      ]
    },
    {
      "cell_type": "markdown",
      "metadata": {
        "id": "7sEuI3DJbwBu"
      },
      "source": [
        "# Str function "
      ]
    },
    {
      "cell_type": "code",
      "metadata": {
        "colab": {
          "base_uri": "https://localhost:8080/"
        },
        "id": "de_j9W0TaEZd",
        "outputId": "617aa4b2-965e-413b-d331-c19dfed6fe71"
      },
      "source": [
        "class employee():\n",
        "   \n",
        "  salary_raise=1.5\n",
        "  def __init__(self,fname,sname,salary):\n",
        "      self.fname=fname\n",
        "      self.sname=sname\n",
        "      self.salary=int(salary)\n",
        "      self.salary_raise=2\n",
        "   \n",
        "  def incre(self):\n",
        "     self.salary=int(self.salary*self.salary_raise)\n",
        "\n",
        "  def __add__(self,other):\n",
        "    return (self.salary+other.salary)\n",
        "\n",
        "  def __repr__(self):\n",
        "     return self.fname\n",
        "\n",
        "  def __str__(self):\n",
        "      return self.sname \n",
        "\n",
        "Abhishek=employee(\"Abhi\",\"kaushik\",\"2000\")\n",
        "Ram=employee(\"Ram\",\"Chandra\",\"5000\") \n",
        "\n",
        "print(repr(Abhishek))\n",
        "print(str(Abhishek))"
      ],
      "execution_count": 18,
      "outputs": [
        {
          "output_type": "stream",
          "text": [
            "Abhi\n",
            "kaushik\n"
          ],
          "name": "stdout"
        }
      ]
    },
    {
      "cell_type": "markdown",
      "metadata": {
        "id": "k_SIYcHKc3bk"
      },
      "source": [
        "##  Property Decorators, Setters & Deleters?"
      ]
    },
    {
      "cell_type": "code",
      "metadata": {
        "id": "JCJuPfsXcjsA"
      },
      "source": [
        "class hotel():\n",
        "  def __init__(self,fname,sname,salary):\n",
        "      self.fname=fname\n",
        "      self.sname=sname\n",
        "      self.salary=int(salary)\n",
        "      self.email=fname+sname+\"@email.com\""
      ],
      "execution_count": 50,
      "outputs": []
    },
    {
      "cell_type": "code",
      "metadata": {
        "colab": {
          "base_uri": "https://localhost:8080/"
        },
        "id": "13cufTC5gAxv",
        "outputId": "8d473307-c1c2-4c07-fae1-37381631270f"
      },
      "source": [
        "if __name__ == \"__main__\":\n",
        "    Abhishek=hotel(\"Abhi\",\"kaushik\",\"2000\")\n",
        "    Ram=hotel(\"Ram\",\"Chandra\",\"5000\")  \n",
        "    print(Ram.email)\n",
        "    Ram.sname=\"Bhagwan\"\n",
        "    print(Ram.email)\n",
        "\n",
        " \n",
        "\n",
        "    "
      ],
      "execution_count": 52,
      "outputs": [
        {
          "output_type": "stream",
          "text": [
            "RamChandra@email.com\n",
            "RamChandra@email.com\n"
          ],
          "name": "stdout"
        }
      ]
    },
    {
      "cell_type": "code",
      "metadata": {
        "colab": {
          "base_uri": "https://localhost:8080/"
        },
        "id": "pNDas3KTgUnt",
        "outputId": "bd94e052-3ed4-4a4f-a059-6752d28a6c5b"
      },
      "source": [
        "print(Ram.__dict__)"
      ],
      "execution_count": 47,
      "outputs": [
        {
          "output_type": "stream",
          "text": [
            "{'fname': 'Ram', 'sname': 'Chandra', 'salary': 5000, 'email': 'RamChandra'}\n"
          ],
          "name": "stdout"
        }
      ]
    },
    {
      "cell_type": "code",
      "metadata": {
        "colab": {
          "base_uri": "https://localhost:8080/"
        },
        "id": "bhC-ChivgkSq",
        "outputId": "ba376f61-cf0e-47a3-b529-951eabec3b71"
      },
      "source": [
        "class hotel():\n",
        "  def __init__(self,fname,sname,salary):\n",
        "      self.fname=fname\n",
        "      self.sname=sname\n",
        "      self.salary=int(salary)\n",
        "      #self.email=fname+sname+\"@email.com\"\n",
        "  @property\n",
        "  def email(self):\n",
        "      return self.fname+self.sname+\"@email.com\"   \n",
        "\n",
        "if __name__ == \"__main__\":\n",
        "    Abhishek=hotel(\"Abhi\",\"kaushik\",\"2000\")\n",
        "    Ram=hotel(\"Ram\",\"Chandra\",\"5000\")  \n",
        "    print(Ram.email)\n",
        "    Ram.sname=\"Bhagwan\"\n",
        "    print(Ram.email)\n"
      ],
      "execution_count": 59,
      "outputs": [
        {
          "output_type": "stream",
          "text": [
            "RamChandra@email.com\n",
            "RamBhagwan@email.com\n"
          ],
          "name": "stdout"
        }
      ]
    },
    {
      "cell_type": "code",
      "metadata": {
        "colab": {
          "base_uri": "https://localhost:8080/",
          "height": 235
        },
        "id": "R3IP-VQSjUGl",
        "outputId": "a8cae82e-e817-4605-8ac5-71e5cecb30af"
      },
      "source": [
        "class hotel():\n",
        "  def __init__(self,fname,sname,salary):\n",
        "      self.fname=fname\n",
        "      self.sname=sname\n",
        "      self.salary=int(salary)\n",
        "      #self.email=fname+sname+\"@email.com\"\n",
        "  @property\n",
        "  def email(self):\n",
        "      return self.fname+self.sname+\"@email.com\"   \n",
        "\n",
        "if __name__ == \"__main__\":\n",
        "    Abhishek=hotel(\"Abhi\",\"kaushik\",\"2000\")\n",
        "    Ram=hotel(\"Ram\",\"Chandra\",\"5000\")  \n",
        "    print(Ram.email)\n",
        "    Ram.sname=\"Bhagwan\"\n",
        "    Ram.email=\"ram@gmail.com\"\n",
        "    print(Ram.email)"
      ],
      "execution_count": 60,
      "outputs": [
        {
          "output_type": "stream",
          "text": [
            "RamChandra@email.com\n"
          ],
          "name": "stdout"
        },
        {
          "output_type": "error",
          "ename": "AttributeError",
          "evalue": "ignored",
          "traceback": [
            "\u001b[0;31m---------------------------------------------------------------------------\u001b[0m",
            "\u001b[0;31mAttributeError\u001b[0m                            Traceback (most recent call last)",
            "\u001b[0;32m<ipython-input-60-3f94d31b3643>\u001b[0m in \u001b[0;36m<module>\u001b[0;34m()\u001b[0m\n\u001b[1;32m     14\u001b[0m     \u001b[0mprint\u001b[0m\u001b[0;34m(\u001b[0m\u001b[0mRam\u001b[0m\u001b[0;34m.\u001b[0m\u001b[0memail\u001b[0m\u001b[0;34m)\u001b[0m\u001b[0;34m\u001b[0m\u001b[0;34m\u001b[0m\u001b[0m\n\u001b[1;32m     15\u001b[0m     \u001b[0mRam\u001b[0m\u001b[0;34m.\u001b[0m\u001b[0msname\u001b[0m\u001b[0;34m=\u001b[0m\u001b[0;34m\"Bhagwan\"\u001b[0m\u001b[0;34m\u001b[0m\u001b[0;34m\u001b[0m\u001b[0m\n\u001b[0;32m---> 16\u001b[0;31m     \u001b[0mRam\u001b[0m\u001b[0;34m.\u001b[0m\u001b[0memail\u001b[0m\u001b[0;34m=\u001b[0m\u001b[0;34m\"ram@gmail.com\"\u001b[0m\u001b[0;34m\u001b[0m\u001b[0;34m\u001b[0m\u001b[0m\n\u001b[0m\u001b[1;32m     17\u001b[0m     \u001b[0mprint\u001b[0m\u001b[0;34m(\u001b[0m\u001b[0mRam\u001b[0m\u001b[0;34m.\u001b[0m\u001b[0memail\u001b[0m\u001b[0;34m)\u001b[0m\u001b[0;34m\u001b[0m\u001b[0;34m\u001b[0m\u001b[0m\n",
            "\u001b[0;31mAttributeError\u001b[0m: can't set attribute"
          ]
        }
      ]
    },
    {
      "cell_type": "code",
      "metadata": {
        "colab": {
          "base_uri": "https://localhost:8080/"
        },
        "id": "eKWwCtt-lHda",
        "outputId": "2b5e05c9-3205-4ec6-ce2d-abf78cd09f9d"
      },
      "source": [
        "class hotel():\n",
        "  def __init__(self,fname,sname,salary):\n",
        "      self.fname=fname\n",
        "      self.sname=sname\n",
        "      self.salary=int(salary)\n",
        "      #self.email=fname+sname+\"@email.com\"\n",
        "  @property\n",
        "  def email(self):\n",
        "      return self.fname+\".\"+self.sname+\"@email.com\"  \n",
        "  @email.setter\n",
        "  def email(self, email):\n",
        "      fullname=email.split(\"@\")[0].split(\".\")\n",
        "      self.fname=fullname[1]\n",
        "      self.sname=fullname[0]\n",
        "\n",
        "\n",
        "\n",
        "if __name__ == \"__main__\":\n",
        "    Abhishek=hotel(\"Abhi\",\"kaushik\",\"2000\")\n",
        "    Ram=hotel(\"Ram\",\"Chandra\",\"5000\")  \n",
        "    print(Ram.email)\n",
        "    Ram.sname=\"Bhagwan\"\n",
        "    Ram.email=\"ram.chandra@gmail.com\"\n",
        "    print(Ram.email)\n",
        "\n"
      ],
      "execution_count": 63,
      "outputs": [
        {
          "output_type": "stream",
          "text": [
            "Ram.Chandra@email.com\n",
            "chandra.ram@email.com\n"
          ],
          "name": "stdout"
        }
      ]
    },
    {
      "cell_type": "markdown",
      "metadata": {
        "id": "fUA4qltfqQG4"
      },
      "source": [
        "# Deleter "
      ]
    },
    {
      "cell_type": "code",
      "metadata": {
        "colab": {
          "base_uri": "https://localhost:8080/"
        },
        "id": "0cEKLvWQpovj",
        "outputId": "8808d872-2697-4062-baf1-98a37e7afdae"
      },
      "source": [
        "class hospital():\n",
        "  def __init__(self,fname,sname,salary):\n",
        "      self.fname=fname\n",
        "      self.sname=sname\n",
        "      self.salary=int(salary)\n",
        "      #self.email=fname+sname+\"@email.com\"\n",
        "  @property\n",
        "  def email(self):\n",
        "      if self.fname==None:\n",
        "        return \"Email not set\"\n",
        "      else:\n",
        "        return self.fname+\".\"+self.sname+\"@email.com\"  \n",
        "  @email.setter\n",
        "  def email(self, email):\n",
        "      fullname=email.split(\"@\")[0].split(\".\")\n",
        "      self.fname=fullname[1]\n",
        "      self.sname=fullname[0]\n",
        "\n",
        "  @email.deleter\n",
        "  def email(self):\n",
        "    self.fname=None\n",
        "    self.sname=None \n",
        "\n",
        "if __name__ == \"__main__\":\n",
        "    #Abhishek=hospital(\"Abhi\",\"kaushik\",\"2000\")\n",
        "    Ram=hospital(\"Ram\",\"Chandra\",\"5000\")  \n",
        "    print(Ram.email)\n",
        "    Ram.sname=\"Bhagwan\"\n",
        "    Ram.email=\"ram.chandra@gmail.com\"\n",
        "    print(Ram.email)\n",
        "    del Ram.email\n",
        "    print(Ram.email)\n",
        " "
      ],
      "execution_count": 79,
      "outputs": [
        {
          "output_type": "stream",
          "text": [
            "Ram.Chandra@email.com\n",
            "chandra.ram@email.com\n",
            "Email not set\n"
          ],
          "name": "stdout"
        }
      ]
    },
    {
      "cell_type": "code",
      "metadata": {
        "id": "yE5PFWCaqsMY"
      },
      "source": [
        ""
      ],
      "execution_count": null,
      "outputs": []
    }
  ]
}