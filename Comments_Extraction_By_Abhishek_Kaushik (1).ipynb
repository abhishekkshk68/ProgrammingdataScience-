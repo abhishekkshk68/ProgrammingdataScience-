{
  "nbformat": 4,
  "nbformat_minor": 0,
  "metadata": {
    "colab": {
      "name": "Comments_Extraction_By_Abhishek_Kaushik.ipynb",
      "provenance": []
    },
    "kernelspec": {
      "name": "python3",
      "display_name": "Python 3"
    }
  },
  "cells": [
    {
      "cell_type": "code",
      "metadata": {
        "id": "JpvUXHqd0MrM",
        "colab_type": "code",
        "colab": {}
      },
      "source": [
        "from bs4 import BeautifulSoup as bs\n",
        "import requests\n",
        "import pandas as pd\n",
        "\n",
        "#The code is written by Abhishek Kaushik (Adapt Centre, Ireland)\n",
        "def link_code(name,link):\n",
        "  print(\"################Managing the html Parser##################\")\n",
        "  page = requests.get(link)\n",
        "  soup = bs(page.content,'html.parser')\n",
        "  soup.prettify()\n",
        "  #print(soup)\n",
        "  Cnames = soup.find_all('span',class_='a-profile-name')\n",
        "  cust_name = []\n",
        "  for i in range(0,len(Cnames)):\n",
        "    cust_name.append(Cnames[i].get_text())\n",
        "  print(\"################Managing the Names##################\")\n",
        "  Ptitle = soup.find_all('a',class_='review-title-content')\n",
        "  review_title = []\n",
        "  for i in range(0,len(Ptitle)):\n",
        "    review_title.append(Ptitle[i].get_text())\n",
        "  review_title[:] = [titles.lstrip('\\n') for titles in review_title]\n",
        "  review_title[:] = [titles.rstrip('\\n') for titles in review_title]\n",
        "  print(\"################Managed the Titles##################\")\n",
        "  Prating = soup.find_all('i',class_='review-rating')\n",
        "  rate = []\n",
        "  for i in range(0,len(Prating)):\n",
        "    rate.append(Prating[i].get_text())\n",
        "  print(\"################Managed the rating##################\")\n",
        "  review = soup.find_all(\"span\",{\"data-hook\":\"review-body\"})\n",
        "  review_content = []\n",
        "  for i in range(0,len(review)):\n",
        "    review_content.append(review[i].get_text())\n",
        "  review_content[:] = [reviews.lstrip('\\n') for reviews in review_content]\n",
        "  review_content[:] = [reviews.rstrip('\\n') for reviews in review_content]\n",
        "\n",
        "  print(\"################Managed the comments##################\")\n",
        "  print(\"########Customer Name##########\")\n",
        "  print(\"########Review title##########\")\n",
        "  print(\"########rate details##########\")\n",
        "  print(\"########Review details##########\")\n",
        "  print(\"All the content worked fine\")\n",
        "  data = pd.DataFrame([cust_name,review_title,rate,review_content]) #Each list would be added as a row  \n",
        "  data = data.transpose() #To Transpose and make each rows as columns\n",
        "  data.columns=['Names','title','rating','Reviews'] #Rename the columns\n",
        "  data.to_csv(name+'reviews.csv',index=True)\n",
        "  "
      ],
      "execution_count": 10,
      "outputs": []
    },
    {
      "cell_type": "code",
      "metadata": {
        "id": "Pc4vnpJs0jfe",
        "colab_type": "code",
        "colab": {}
      },
      "source": [
        "name=\"Abhi_version2\"\n",
        "link=\"https://www.amazon.in/WOW-Raw-Apple-Cider-Vinegar/product-reviews/B01AC9G656/ref=cm_cr_dp_d_show_all_btm?ie=UTF8&reviewerType=all_reviews\"\n"
      ],
      "execution_count": 11,
      "outputs": []
    },
    {
      "cell_type": "code",
      "metadata": {
        "id": "0oFttGp50mQD",
        "colab_type": "code",
        "colab": {
          "base_uri": "https://localhost:8080/",
          "height": 199
        },
        "outputId": "ceebc2a0-ef8f-47e8-f973-757c827585a8"
      },
      "source": [
        "link_code(name,link)"
      ],
      "execution_count": 12,
      "outputs": [
        {
          "output_type": "stream",
          "text": [
            "################Managing the html Parser##################\n",
            "################Managing the Names##################\n",
            "################Managed the Titles##################\n",
            "################Managed the rating##################\n",
            "################Managed the comments##################\n",
            "########Customer Name##########\n",
            "########Review title##########\n",
            "########rate details##########\n",
            "########Review details##########\n",
            "All the content worked fine\n"
          ],
          "name": "stdout"
        }
      ]
    },
    {
      "cell_type": "code",
      "metadata": {
        "id": "-IQmAxUm5j7E",
        "colab_type": "code",
        "colab": {}
      },
      "source": [
        ""
      ],
      "execution_count": null,
      "outputs": []
    }
  ]
}